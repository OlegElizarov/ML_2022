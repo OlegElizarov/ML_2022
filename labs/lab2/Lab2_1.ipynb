{
 "cells": [
  {
   "cell_type": "code",
   "execution_count": 1,
   "id": "be3dc407",
   "metadata": {},
   "outputs": [],
   "source": [
    "import numpy as np\n",
    "import pandas as pd\n",
    "import matplotlib.pyplot as plt\n",
    "import seaborn as sns"
   ]
  },
  {
   "cell_type": "code",
   "execution_count": 3,
   "id": "e68cb4e2",
   "metadata": {},
   "outputs": [
    {
     "data": {
      "text/html": [
       "<div>\n",
       "<style scoped>\n",
       "    .dataframe tbody tr th:only-of-type {\n",
       "        vertical-align: middle;\n",
       "    }\n",
       "\n",
       "    .dataframe tbody tr th {\n",
       "        vertical-align: top;\n",
       "    }\n",
       "\n",
       "    .dataframe thead th {\n",
       "        text-align: right;\n",
       "    }\n",
       "</style>\n",
       "<table border=\"1\" class=\"dataframe\">\n",
       "  <thead>\n",
       "    <tr style=\"text-align: right;\">\n",
       "      <th></th>\n",
       "      <th>#</th>\n",
       "      <th>Name</th>\n",
       "      <th>Type 1</th>\n",
       "      <th>Type 2</th>\n",
       "      <th>Total</th>\n",
       "      <th>HP</th>\n",
       "      <th>Attack</th>\n",
       "      <th>Defense</th>\n",
       "      <th>Sp. Atk</th>\n",
       "      <th>Sp. Def</th>\n",
       "      <th>Speed</th>\n",
       "      <th>Generation</th>\n",
       "      <th>Legendary</th>\n",
       "    </tr>\n",
       "  </thead>\n",
       "  <tbody>\n",
       "    <tr>\n",
       "      <th>0</th>\n",
       "      <td>1</td>\n",
       "      <td>Bulbasaur</td>\n",
       "      <td>Grass</td>\n",
       "      <td>Poison</td>\n",
       "      <td>318</td>\n",
       "      <td>45</td>\n",
       "      <td>49</td>\n",
       "      <td>49</td>\n",
       "      <td>65</td>\n",
       "      <td>65</td>\n",
       "      <td>45</td>\n",
       "      <td>1</td>\n",
       "      <td>False</td>\n",
       "    </tr>\n",
       "    <tr>\n",
       "      <th>1</th>\n",
       "      <td>2</td>\n",
       "      <td>Ivysaur</td>\n",
       "      <td>Grass</td>\n",
       "      <td>Poison</td>\n",
       "      <td>405</td>\n",
       "      <td>60</td>\n",
       "      <td>62</td>\n",
       "      <td>63</td>\n",
       "      <td>80</td>\n",
       "      <td>80</td>\n",
       "      <td>60</td>\n",
       "      <td>1</td>\n",
       "      <td>False</td>\n",
       "    </tr>\n",
       "    <tr>\n",
       "      <th>2</th>\n",
       "      <td>3</td>\n",
       "      <td>Venusaur</td>\n",
       "      <td>Grass</td>\n",
       "      <td>Poison</td>\n",
       "      <td>525</td>\n",
       "      <td>80</td>\n",
       "      <td>82</td>\n",
       "      <td>83</td>\n",
       "      <td>100</td>\n",
       "      <td>100</td>\n",
       "      <td>80</td>\n",
       "      <td>1</td>\n",
       "      <td>False</td>\n",
       "    </tr>\n",
       "    <tr>\n",
       "      <th>3</th>\n",
       "      <td>3</td>\n",
       "      <td>VenusaurMega Venusaur</td>\n",
       "      <td>Grass</td>\n",
       "      <td>Poison</td>\n",
       "      <td>625</td>\n",
       "      <td>80</td>\n",
       "      <td>100</td>\n",
       "      <td>123</td>\n",
       "      <td>122</td>\n",
       "      <td>120</td>\n",
       "      <td>80</td>\n",
       "      <td>1</td>\n",
       "      <td>False</td>\n",
       "    </tr>\n",
       "    <tr>\n",
       "      <th>4</th>\n",
       "      <td>4</td>\n",
       "      <td>Charmander</td>\n",
       "      <td>Fire</td>\n",
       "      <td>NaN</td>\n",
       "      <td>309</td>\n",
       "      <td>39</td>\n",
       "      <td>52</td>\n",
       "      <td>43</td>\n",
       "      <td>60</td>\n",
       "      <td>50</td>\n",
       "      <td>65</td>\n",
       "      <td>1</td>\n",
       "      <td>False</td>\n",
       "    </tr>\n",
       "    <tr>\n",
       "      <th>...</th>\n",
       "      <td>...</td>\n",
       "      <td>...</td>\n",
       "      <td>...</td>\n",
       "      <td>...</td>\n",
       "      <td>...</td>\n",
       "      <td>...</td>\n",
       "      <td>...</td>\n",
       "      <td>...</td>\n",
       "      <td>...</td>\n",
       "      <td>...</td>\n",
       "      <td>...</td>\n",
       "      <td>...</td>\n",
       "      <td>...</td>\n",
       "    </tr>\n",
       "    <tr>\n",
       "      <th>795</th>\n",
       "      <td>719</td>\n",
       "      <td>Diancie</td>\n",
       "      <td>Rock</td>\n",
       "      <td>Fairy</td>\n",
       "      <td>600</td>\n",
       "      <td>50</td>\n",
       "      <td>100</td>\n",
       "      <td>150</td>\n",
       "      <td>100</td>\n",
       "      <td>150</td>\n",
       "      <td>50</td>\n",
       "      <td>6</td>\n",
       "      <td>True</td>\n",
       "    </tr>\n",
       "    <tr>\n",
       "      <th>796</th>\n",
       "      <td>719</td>\n",
       "      <td>DiancieMega Diancie</td>\n",
       "      <td>Rock</td>\n",
       "      <td>Fairy</td>\n",
       "      <td>700</td>\n",
       "      <td>50</td>\n",
       "      <td>160</td>\n",
       "      <td>110</td>\n",
       "      <td>160</td>\n",
       "      <td>110</td>\n",
       "      <td>110</td>\n",
       "      <td>6</td>\n",
       "      <td>True</td>\n",
       "    </tr>\n",
       "    <tr>\n",
       "      <th>797</th>\n",
       "      <td>720</td>\n",
       "      <td>HoopaHoopa Confined</td>\n",
       "      <td>Psychic</td>\n",
       "      <td>Ghost</td>\n",
       "      <td>600</td>\n",
       "      <td>80</td>\n",
       "      <td>110</td>\n",
       "      <td>60</td>\n",
       "      <td>150</td>\n",
       "      <td>130</td>\n",
       "      <td>70</td>\n",
       "      <td>6</td>\n",
       "      <td>True</td>\n",
       "    </tr>\n",
       "    <tr>\n",
       "      <th>798</th>\n",
       "      <td>720</td>\n",
       "      <td>HoopaHoopa Unbound</td>\n",
       "      <td>Psychic</td>\n",
       "      <td>Dark</td>\n",
       "      <td>680</td>\n",
       "      <td>80</td>\n",
       "      <td>160</td>\n",
       "      <td>60</td>\n",
       "      <td>170</td>\n",
       "      <td>130</td>\n",
       "      <td>80</td>\n",
       "      <td>6</td>\n",
       "      <td>True</td>\n",
       "    </tr>\n",
       "    <tr>\n",
       "      <th>799</th>\n",
       "      <td>721</td>\n",
       "      <td>Volcanion</td>\n",
       "      <td>Fire</td>\n",
       "      <td>Water</td>\n",
       "      <td>600</td>\n",
       "      <td>80</td>\n",
       "      <td>110</td>\n",
       "      <td>120</td>\n",
       "      <td>130</td>\n",
       "      <td>90</td>\n",
       "      <td>70</td>\n",
       "      <td>6</td>\n",
       "      <td>True</td>\n",
       "    </tr>\n",
       "  </tbody>\n",
       "</table>\n",
       "<p>800 rows × 13 columns</p>\n",
       "</div>"
      ],
      "text/plain": [
       "       #                   Name   Type 1  Type 2  Total  HP  Attack  Defense  \\\n",
       "0      1              Bulbasaur    Grass  Poison    318  45      49       49   \n",
       "1      2                Ivysaur    Grass  Poison    405  60      62       63   \n",
       "2      3               Venusaur    Grass  Poison    525  80      82       83   \n",
       "3      3  VenusaurMega Venusaur    Grass  Poison    625  80     100      123   \n",
       "4      4             Charmander     Fire     NaN    309  39      52       43   \n",
       "..   ...                    ...      ...     ...    ...  ..     ...      ...   \n",
       "795  719                Diancie     Rock   Fairy    600  50     100      150   \n",
       "796  719    DiancieMega Diancie     Rock   Fairy    700  50     160      110   \n",
       "797  720    HoopaHoopa Confined  Psychic   Ghost    600  80     110       60   \n",
       "798  720     HoopaHoopa Unbound  Psychic    Dark    680  80     160       60   \n",
       "799  721              Volcanion     Fire   Water    600  80     110      120   \n",
       "\n",
       "     Sp. Atk  Sp. Def  Speed  Generation  Legendary  \n",
       "0         65       65     45           1      False  \n",
       "1         80       80     60           1      False  \n",
       "2        100      100     80           1      False  \n",
       "3        122      120     80           1      False  \n",
       "4         60       50     65           1      False  \n",
       "..       ...      ...    ...         ...        ...  \n",
       "795      100      150     50           6       True  \n",
       "796      160      110    110           6       True  \n",
       "797      150      130     70           6       True  \n",
       "798      170      130     80           6       True  \n",
       "799      130       90     70           6       True  \n",
       "\n",
       "[800 rows x 13 columns]"
      ]
     },
     "execution_count": 3,
     "metadata": {},
     "output_type": "execute_result"
    }
   ],
   "source": [
    "data = pd.read_csv('archive/Pokemon.csv')\n",
    "data"
   ]
  },
  {
   "cell_type": "code",
   "execution_count": 5,
   "id": "5a01e9af",
   "metadata": {},
   "outputs": [
    {
     "data": {
      "text/plain": [
       "(800, 13)"
      ]
     },
     "execution_count": 5,
     "metadata": {},
     "output_type": "execute_result"
    }
   ],
   "source": [
    "data.shape"
   ]
  },
  {
   "cell_type": "code",
   "execution_count": 6,
   "id": "d9be877e",
   "metadata": {},
   "outputs": [
    {
     "data": {
      "text/plain": [
       "#               0\n",
       "Name            0\n",
       "Type 1          0\n",
       "Type 2        386\n",
       "Total           0\n",
       "HP              0\n",
       "Attack          0\n",
       "Defense         0\n",
       "Sp. Atk         0\n",
       "Sp. Def         0\n",
       "Speed           0\n",
       "Generation      0\n",
       "Legendary       0\n",
       "dtype: int64"
      ]
     },
     "execution_count": 6,
     "metadata": {},
     "output_type": "execute_result"
    }
   ],
   "source": [
    "data.isnull().sum()"
   ]
  },
  {
   "cell_type": "code",
   "execution_count": 13,
   "id": "4d729166",
   "metadata": {},
   "outputs": [
    {
     "data": {
      "text/plain": [
       "[('#', 0.0),\n",
       " ('Name', 0.0),\n",
       " ('Type 1', 0.0),\n",
       " ('Type 2', 0.4825),\n",
       " ('Total', 0.0),\n",
       " ('HP', 0.0),\n",
       " ('Attack', 0.0),\n",
       " ('Defense', 0.0),\n",
       " ('Sp. Atk', 0.0),\n",
       " ('Sp. Def', 0.0),\n",
       " ('Speed', 0.0),\n",
       " ('Generation', 0.0),\n",
       " ('Legendary', 0.0)]"
      ]
     },
     "execution_count": 13,
     "metadata": {},
     "output_type": "execute_result"
    }
   ],
   "source": [
    "[(c, data[c].isnull().mean()) for c in data.columns]"
   ]
  },
  {
   "cell_type": "markdown",
   "id": "c95fb5a8",
   "metadata": {},
   "source": [
    "Слишком большой процент строк имеет пропуск, удалять строки опасно. Можно удалить колонку или засетить значение дефолтным(Normal)"
   ]
  },
  {
   "cell_type": "code",
   "execution_count": 22,
   "id": "9db0f339",
   "metadata": {},
   "outputs": [
    {
     "data": {
      "text/plain": [
       "(800, 12)"
      ]
     },
     "execution_count": 22,
     "metadata": {},
     "output_type": "execute_result"
    }
   ],
   "source": [
    "data_clean = res = data.dropna(axis=1, how='any')\n",
    "data_clean.shape"
   ]
  },
  {
   "cell_type": "code",
   "execution_count": 29,
   "id": "5d1dc7fd",
   "metadata": {},
   "outputs": [
    {
     "data": {
      "text/plain": [
       "#             0\n",
       "Name          0\n",
       "Type 1        0\n",
       "Type 2        0\n",
       "Total         0\n",
       "HP            0\n",
       "Attack        0\n",
       "Defense       0\n",
       "Sp. Atk       0\n",
       "Sp. Def       0\n",
       "Speed         0\n",
       "Generation    0\n",
       "Legendary     0\n",
       "dtype: int64"
      ]
     },
     "execution_count": 29,
     "metadata": {},
     "output_type": "execute_result"
    }
   ],
   "source": [
    "data_normal = data.fillna(value='Normal')\n",
    "data_normal.isnull().sum()"
   ]
  },
  {
   "cell_type": "code",
   "execution_count": 33,
   "id": "7cfa3c19",
   "metadata": {},
   "outputs": [
    {
     "data": {
      "text/plain": [
       "#              int64\n",
       "Name          object\n",
       "Type 1        object\n",
       "Total          int64\n",
       "HP             int64\n",
       "Attack         int64\n",
       "Defense        int64\n",
       "Sp. Atk        int64\n",
       "Sp. Def        int64\n",
       "Speed          int64\n",
       "Generation     int64\n",
       "Legendary       bool\n",
       "dtype: object"
      ]
     },
     "execution_count": 33,
     "metadata": {},
     "output_type": "execute_result"
    }
   ],
   "source": [
    "data_clean.dtypes"
   ]
  },
  {
   "cell_type": "markdown",
   "id": "97f29390",
   "metadata": {},
   "source": [
    "Перейдем к стадии кодирования категориальных признаков. Попробуем кодировать тип покемонов."
   ]
  },
  {
   "cell_type": "code",
   "execution_count": 53,
   "id": "0dc04ca3",
   "metadata": {},
   "outputs": [],
   "source": [
    "from sklearn.preprocessing import LabelEncoder\n",
    "# Label Encoding"
   ]
  },
  {
   "cell_type": "code",
   "execution_count": 54,
   "id": "b6af347f",
   "metadata": {},
   "outputs": [],
   "source": [
    "le = LabelEncoder()\n",
    "encoded_types = le.fit_transform(data_clean['Type 1'])"
   ]
  },
  {
   "cell_type": "code",
   "execution_count": 55,
   "id": "9c214127",
   "metadata": {},
   "outputs": [
    {
     "data": {
      "text/plain": [
       "array(['Grass', 'Fire', 'Water', 'Bug', 'Normal', 'Poison', 'Electric',\n",
       "       'Ground', 'Fairy', 'Fighting', 'Psychic', 'Rock', 'Ghost', 'Ice',\n",
       "       'Dragon', 'Dark', 'Steel', 'Flying'], dtype=object)"
      ]
     },
     "execution_count": 55,
     "metadata": {},
     "output_type": "execute_result"
    }
   ],
   "source": [
    "data_clean['Type 1'].unique()\n"
   ]
  },
  {
   "cell_type": "code",
   "execution_count": 56,
   "id": "efafca94",
   "metadata": {},
   "outputs": [
    {
     "data": {
      "text/plain": [
       "array([ 0,  1,  2,  3,  4,  5,  6,  7,  8,  9, 10, 11, 12, 13, 14, 15, 16,\n",
       "       17])"
      ]
     },
     "execution_count": 56,
     "metadata": {},
     "output_type": "execute_result"
    }
   ],
   "source": [
    "np.unique(encoded_types)"
   ]
  },
  {
   "cell_type": "code",
   "execution_count": 57,
   "id": "7d7a1fd4",
   "metadata": {},
   "outputs": [
    {
     "data": {
      "text/plain": [
       "array(['Bug', 'Dark', 'Dragon', 'Electric'], dtype=object)"
      ]
     },
     "execution_count": 57,
     "metadata": {},
     "output_type": "execute_result"
    }
   ],
   "source": [
    "le.inverse_transform([0, 1, 2, 3])\n"
   ]
  },
  {
   "cell_type": "markdown",
   "id": "0d73447b",
   "metadata": {},
   "source": [
    "One-hot encoding"
   ]
  },
  {
   "cell_type": "code",
   "execution_count": 58,
   "id": "c689fcb2",
   "metadata": {},
   "outputs": [
    {
     "data": {
      "text/html": [
       "<div>\n",
       "<style scoped>\n",
       "    .dataframe tbody tr th:only-of-type {\n",
       "        vertical-align: middle;\n",
       "    }\n",
       "\n",
       "    .dataframe tbody tr th {\n",
       "        vertical-align: top;\n",
       "    }\n",
       "\n",
       "    .dataframe thead th {\n",
       "        text-align: right;\n",
       "    }\n",
       "</style>\n",
       "<table border=\"1\" class=\"dataframe\">\n",
       "  <thead>\n",
       "    <tr style=\"text-align: right;\">\n",
       "      <th></th>\n",
       "      <th>Bug</th>\n",
       "      <th>Dark</th>\n",
       "      <th>Dragon</th>\n",
       "      <th>Electric</th>\n",
       "      <th>Fairy</th>\n",
       "      <th>Fighting</th>\n",
       "      <th>Fire</th>\n",
       "      <th>Flying</th>\n",
       "      <th>Ghost</th>\n",
       "      <th>Grass</th>\n",
       "      <th>Ground</th>\n",
       "      <th>Ice</th>\n",
       "      <th>Normal</th>\n",
       "      <th>Poison</th>\n",
       "      <th>Psychic</th>\n",
       "      <th>Rock</th>\n",
       "      <th>Steel</th>\n",
       "      <th>Water</th>\n",
       "    </tr>\n",
       "  </thead>\n",
       "  <tbody>\n",
       "    <tr>\n",
       "      <th>0</th>\n",
       "      <td>0</td>\n",
       "      <td>0</td>\n",
       "      <td>0</td>\n",
       "      <td>0</td>\n",
       "      <td>0</td>\n",
       "      <td>0</td>\n",
       "      <td>0</td>\n",
       "      <td>0</td>\n",
       "      <td>0</td>\n",
       "      <td>1</td>\n",
       "      <td>0</td>\n",
       "      <td>0</td>\n",
       "      <td>0</td>\n",
       "      <td>0</td>\n",
       "      <td>0</td>\n",
       "      <td>0</td>\n",
       "      <td>0</td>\n",
       "      <td>0</td>\n",
       "    </tr>\n",
       "    <tr>\n",
       "      <th>1</th>\n",
       "      <td>0</td>\n",
       "      <td>0</td>\n",
       "      <td>0</td>\n",
       "      <td>0</td>\n",
       "      <td>0</td>\n",
       "      <td>0</td>\n",
       "      <td>0</td>\n",
       "      <td>0</td>\n",
       "      <td>0</td>\n",
       "      <td>1</td>\n",
       "      <td>0</td>\n",
       "      <td>0</td>\n",
       "      <td>0</td>\n",
       "      <td>0</td>\n",
       "      <td>0</td>\n",
       "      <td>0</td>\n",
       "      <td>0</td>\n",
       "      <td>0</td>\n",
       "    </tr>\n",
       "    <tr>\n",
       "      <th>2</th>\n",
       "      <td>0</td>\n",
       "      <td>0</td>\n",
       "      <td>0</td>\n",
       "      <td>0</td>\n",
       "      <td>0</td>\n",
       "      <td>0</td>\n",
       "      <td>0</td>\n",
       "      <td>0</td>\n",
       "      <td>0</td>\n",
       "      <td>1</td>\n",
       "      <td>0</td>\n",
       "      <td>0</td>\n",
       "      <td>0</td>\n",
       "      <td>0</td>\n",
       "      <td>0</td>\n",
       "      <td>0</td>\n",
       "      <td>0</td>\n",
       "      <td>0</td>\n",
       "    </tr>\n",
       "    <tr>\n",
       "      <th>3</th>\n",
       "      <td>0</td>\n",
       "      <td>0</td>\n",
       "      <td>0</td>\n",
       "      <td>0</td>\n",
       "      <td>0</td>\n",
       "      <td>0</td>\n",
       "      <td>0</td>\n",
       "      <td>0</td>\n",
       "      <td>0</td>\n",
       "      <td>1</td>\n",
       "      <td>0</td>\n",
       "      <td>0</td>\n",
       "      <td>0</td>\n",
       "      <td>0</td>\n",
       "      <td>0</td>\n",
       "      <td>0</td>\n",
       "      <td>0</td>\n",
       "      <td>0</td>\n",
       "    </tr>\n",
       "    <tr>\n",
       "      <th>4</th>\n",
       "      <td>0</td>\n",
       "      <td>0</td>\n",
       "      <td>0</td>\n",
       "      <td>0</td>\n",
       "      <td>0</td>\n",
       "      <td>0</td>\n",
       "      <td>1</td>\n",
       "      <td>0</td>\n",
       "      <td>0</td>\n",
       "      <td>0</td>\n",
       "      <td>0</td>\n",
       "      <td>0</td>\n",
       "      <td>0</td>\n",
       "      <td>0</td>\n",
       "      <td>0</td>\n",
       "      <td>0</td>\n",
       "      <td>0</td>\n",
       "      <td>0</td>\n",
       "    </tr>\n",
       "  </tbody>\n",
       "</table>\n",
       "</div>"
      ],
      "text/plain": [
       "   Bug  Dark  Dragon  Electric  Fairy  Fighting  Fire  Flying  Ghost  Grass  \\\n",
       "0    0     0       0         0      0         0     0       0      0      1   \n",
       "1    0     0       0         0      0         0     0       0      0      1   \n",
       "2    0     0       0         0      0         0     0       0      0      1   \n",
       "3    0     0       0         0      0         0     0       0      0      1   \n",
       "4    0     0       0         0      0         0     1       0      0      0   \n",
       "\n",
       "   Ground  Ice  Normal  Poison  Psychic  Rock  Steel  Water  \n",
       "0       0    0       0       0        0     0      0      0  \n",
       "1       0    0       0       0        0     0      0      0  \n",
       "2       0    0       0       0        0     0      0      0  \n",
       "3       0    0       0       0        0     0      0      0  \n",
       "4       0    0       0       0        0     0      0      0  "
      ]
     },
     "execution_count": 58,
     "metadata": {},
     "output_type": "execute_result"
    }
   ],
   "source": [
    "pd.get_dummies(data_clean['Type 1']).head()\n"
   ]
  },
  {
   "cell_type": "code",
   "execution_count": null,
   "id": "8b8491c8",
   "metadata": {},
   "outputs": [],
   "source": []
  },
  {
   "cell_type": "code",
   "execution_count": 59,
   "id": "da7d3f70",
   "metadata": {},
   "outputs": [
    {
     "data": {
      "text/html": [
       "<div>\n",
       "<style scoped>\n",
       "    .dataframe tbody tr th:only-of-type {\n",
       "        vertical-align: middle;\n",
       "    }\n",
       "\n",
       "    .dataframe tbody tr th {\n",
       "        vertical-align: top;\n",
       "    }\n",
       "\n",
       "    .dataframe thead th {\n",
       "        text-align: right;\n",
       "    }\n",
       "</style>\n",
       "<table border=\"1\" class=\"dataframe\">\n",
       "  <thead>\n",
       "    <tr style=\"text-align: right;\">\n",
       "      <th></th>\n",
       "      <th>#</th>\n",
       "      <th>Total</th>\n",
       "      <th>HP</th>\n",
       "      <th>Attack</th>\n",
       "      <th>Defense</th>\n",
       "      <th>Sp. Atk</th>\n",
       "      <th>Sp. Def</th>\n",
       "      <th>Speed</th>\n",
       "      <th>Generation</th>\n",
       "      <th>Legendary</th>\n",
       "    </tr>\n",
       "    <tr>\n",
       "      <th>Type 1</th>\n",
       "      <th></th>\n",
       "      <th></th>\n",
       "      <th></th>\n",
       "      <th></th>\n",
       "      <th></th>\n",
       "      <th></th>\n",
       "      <th></th>\n",
       "      <th></th>\n",
       "      <th></th>\n",
       "      <th></th>\n",
       "    </tr>\n",
       "  </thead>\n",
       "  <tbody>\n",
       "    <tr>\n",
       "      <th>Bug</th>\n",
       "      <td>334.492754</td>\n",
       "      <td>378.927536</td>\n",
       "      <td>56.884058</td>\n",
       "      <td>70.971014</td>\n",
       "      <td>70.724638</td>\n",
       "      <td>53.869565</td>\n",
       "      <td>64.797101</td>\n",
       "      <td>61.681159</td>\n",
       "      <td>3.217391</td>\n",
       "      <td>0.000000</td>\n",
       "    </tr>\n",
       "    <tr>\n",
       "      <th>Poison</th>\n",
       "      <td>251.785714</td>\n",
       "      <td>399.142857</td>\n",
       "      <td>67.250000</td>\n",
       "      <td>74.678571</td>\n",
       "      <td>68.821429</td>\n",
       "      <td>60.428571</td>\n",
       "      <td>64.392857</td>\n",
       "      <td>63.571429</td>\n",
       "      <td>2.535714</td>\n",
       "      <td>0.000000</td>\n",
       "    </tr>\n",
       "    <tr>\n",
       "      <th>Normal</th>\n",
       "      <td>319.173469</td>\n",
       "      <td>401.683673</td>\n",
       "      <td>77.275510</td>\n",
       "      <td>73.469388</td>\n",
       "      <td>59.846939</td>\n",
       "      <td>55.816327</td>\n",
       "      <td>63.724490</td>\n",
       "      <td>71.551020</td>\n",
       "      <td>3.051020</td>\n",
       "      <td>0.020408</td>\n",
       "    </tr>\n",
       "    <tr>\n",
       "      <th>Fairy</th>\n",
       "      <td>449.529412</td>\n",
       "      <td>413.176471</td>\n",
       "      <td>74.117647</td>\n",
       "      <td>61.529412</td>\n",
       "      <td>65.705882</td>\n",
       "      <td>78.529412</td>\n",
       "      <td>84.705882</td>\n",
       "      <td>48.588235</td>\n",
       "      <td>4.117647</td>\n",
       "      <td>0.058824</td>\n",
       "    </tr>\n",
       "    <tr>\n",
       "      <th>Fighting</th>\n",
       "      <td>363.851852</td>\n",
       "      <td>416.444444</td>\n",
       "      <td>69.851852</td>\n",
       "      <td>96.777778</td>\n",
       "      <td>65.925926</td>\n",
       "      <td>53.111111</td>\n",
       "      <td>64.703704</td>\n",
       "      <td>66.074074</td>\n",
       "      <td>3.370370</td>\n",
       "      <td>0.000000</td>\n",
       "    </tr>\n",
       "    <tr>\n",
       "      <th>Grass</th>\n",
       "      <td>344.871429</td>\n",
       "      <td>421.142857</td>\n",
       "      <td>67.271429</td>\n",
       "      <td>73.214286</td>\n",
       "      <td>70.800000</td>\n",
       "      <td>77.500000</td>\n",
       "      <td>70.428571</td>\n",
       "      <td>61.928571</td>\n",
       "      <td>3.357143</td>\n",
       "      <td>0.042857</td>\n",
       "    </tr>\n",
       "    <tr>\n",
       "      <th>Water</th>\n",
       "      <td>303.089286</td>\n",
       "      <td>430.455357</td>\n",
       "      <td>72.062500</td>\n",
       "      <td>74.151786</td>\n",
       "      <td>72.946429</td>\n",
       "      <td>74.812500</td>\n",
       "      <td>70.517857</td>\n",
       "      <td>65.964286</td>\n",
       "      <td>2.857143</td>\n",
       "      <td>0.035714</td>\n",
       "    </tr>\n",
       "    <tr>\n",
       "      <th>Ice</th>\n",
       "      <td>423.541667</td>\n",
       "      <td>433.458333</td>\n",
       "      <td>72.000000</td>\n",
       "      <td>72.750000</td>\n",
       "      <td>71.416667</td>\n",
       "      <td>77.541667</td>\n",
       "      <td>76.291667</td>\n",
       "      <td>63.458333</td>\n",
       "      <td>3.541667</td>\n",
       "      <td>0.083333</td>\n",
       "    </tr>\n",
       "    <tr>\n",
       "      <th>Ground</th>\n",
       "      <td>356.281250</td>\n",
       "      <td>437.500000</td>\n",
       "      <td>73.781250</td>\n",
       "      <td>95.750000</td>\n",
       "      <td>84.843750</td>\n",
       "      <td>56.468750</td>\n",
       "      <td>62.750000</td>\n",
       "      <td>63.906250</td>\n",
       "      <td>3.156250</td>\n",
       "      <td>0.125000</td>\n",
       "    </tr>\n",
       "    <tr>\n",
       "      <th>Ghost</th>\n",
       "      <td>486.500000</td>\n",
       "      <td>439.562500</td>\n",
       "      <td>64.437500</td>\n",
       "      <td>73.781250</td>\n",
       "      <td>81.187500</td>\n",
       "      <td>79.343750</td>\n",
       "      <td>76.468750</td>\n",
       "      <td>64.343750</td>\n",
       "      <td>4.187500</td>\n",
       "      <td>0.062500</td>\n",
       "    </tr>\n",
       "    <tr>\n",
       "      <th>Electric</th>\n",
       "      <td>363.500000</td>\n",
       "      <td>443.409091</td>\n",
       "      <td>59.795455</td>\n",
       "      <td>69.090909</td>\n",
       "      <td>66.295455</td>\n",
       "      <td>90.022727</td>\n",
       "      <td>73.704545</td>\n",
       "      <td>84.500000</td>\n",
       "      <td>3.272727</td>\n",
       "      <td>0.090909</td>\n",
       "    </tr>\n",
       "    <tr>\n",
       "      <th>Dark</th>\n",
       "      <td>461.354839</td>\n",
       "      <td>445.741935</td>\n",
       "      <td>66.806452</td>\n",
       "      <td>88.387097</td>\n",
       "      <td>70.225806</td>\n",
       "      <td>74.645161</td>\n",
       "      <td>69.516129</td>\n",
       "      <td>76.161290</td>\n",
       "      <td>4.032258</td>\n",
       "      <td>0.064516</td>\n",
       "    </tr>\n",
       "    <tr>\n",
       "      <th>Rock</th>\n",
       "      <td>392.727273</td>\n",
       "      <td>453.750000</td>\n",
       "      <td>65.363636</td>\n",
       "      <td>92.863636</td>\n",
       "      <td>100.795455</td>\n",
       "      <td>63.340909</td>\n",
       "      <td>75.477273</td>\n",
       "      <td>55.909091</td>\n",
       "      <td>3.454545</td>\n",
       "      <td>0.090909</td>\n",
       "    </tr>\n",
       "    <tr>\n",
       "      <th>Fire</th>\n",
       "      <td>327.403846</td>\n",
       "      <td>458.076923</td>\n",
       "      <td>69.903846</td>\n",
       "      <td>84.769231</td>\n",
       "      <td>67.769231</td>\n",
       "      <td>88.980769</td>\n",
       "      <td>72.211538</td>\n",
       "      <td>74.442308</td>\n",
       "      <td>3.211538</td>\n",
       "      <td>0.096154</td>\n",
       "    </tr>\n",
       "    <tr>\n",
       "      <th>Psychic</th>\n",
       "      <td>380.807018</td>\n",
       "      <td>475.947368</td>\n",
       "      <td>70.631579</td>\n",
       "      <td>71.456140</td>\n",
       "      <td>67.684211</td>\n",
       "      <td>98.403509</td>\n",
       "      <td>86.280702</td>\n",
       "      <td>81.491228</td>\n",
       "      <td>3.385965</td>\n",
       "      <td>0.245614</td>\n",
       "    </tr>\n",
       "    <tr>\n",
       "      <th>Flying</th>\n",
       "      <td>677.750000</td>\n",
       "      <td>485.000000</td>\n",
       "      <td>70.750000</td>\n",
       "      <td>78.750000</td>\n",
       "      <td>66.250000</td>\n",
       "      <td>94.250000</td>\n",
       "      <td>72.500000</td>\n",
       "      <td>102.500000</td>\n",
       "      <td>5.500000</td>\n",
       "      <td>0.500000</td>\n",
       "    </tr>\n",
       "    <tr>\n",
       "      <th>Steel</th>\n",
       "      <td>442.851852</td>\n",
       "      <td>487.703704</td>\n",
       "      <td>65.222222</td>\n",
       "      <td>92.703704</td>\n",
       "      <td>126.370370</td>\n",
       "      <td>67.518519</td>\n",
       "      <td>80.629630</td>\n",
       "      <td>55.259259</td>\n",
       "      <td>3.851852</td>\n",
       "      <td>0.148148</td>\n",
       "    </tr>\n",
       "    <tr>\n",
       "      <th>Dragon</th>\n",
       "      <td>474.375000</td>\n",
       "      <td>550.531250</td>\n",
       "      <td>83.312500</td>\n",
       "      <td>112.125000</td>\n",
       "      <td>86.375000</td>\n",
       "      <td>96.843750</td>\n",
       "      <td>88.843750</td>\n",
       "      <td>83.031250</td>\n",
       "      <td>3.875000</td>\n",
       "      <td>0.375000</td>\n",
       "    </tr>\n",
       "  </tbody>\n",
       "</table>\n",
       "</div>"
      ],
      "text/plain": [
       "                   #       Total         HP      Attack     Defense  \\\n",
       "Type 1                                                                \n",
       "Bug       334.492754  378.927536  56.884058   70.971014   70.724638   \n",
       "Poison    251.785714  399.142857  67.250000   74.678571   68.821429   \n",
       "Normal    319.173469  401.683673  77.275510   73.469388   59.846939   \n",
       "Fairy     449.529412  413.176471  74.117647   61.529412   65.705882   \n",
       "Fighting  363.851852  416.444444  69.851852   96.777778   65.925926   \n",
       "Grass     344.871429  421.142857  67.271429   73.214286   70.800000   \n",
       "Water     303.089286  430.455357  72.062500   74.151786   72.946429   \n",
       "Ice       423.541667  433.458333  72.000000   72.750000   71.416667   \n",
       "Ground    356.281250  437.500000  73.781250   95.750000   84.843750   \n",
       "Ghost     486.500000  439.562500  64.437500   73.781250   81.187500   \n",
       "Electric  363.500000  443.409091  59.795455   69.090909   66.295455   \n",
       "Dark      461.354839  445.741935  66.806452   88.387097   70.225806   \n",
       "Rock      392.727273  453.750000  65.363636   92.863636  100.795455   \n",
       "Fire      327.403846  458.076923  69.903846   84.769231   67.769231   \n",
       "Psychic   380.807018  475.947368  70.631579   71.456140   67.684211   \n",
       "Flying    677.750000  485.000000  70.750000   78.750000   66.250000   \n",
       "Steel     442.851852  487.703704  65.222222   92.703704  126.370370   \n",
       "Dragon    474.375000  550.531250  83.312500  112.125000   86.375000   \n",
       "\n",
       "            Sp. Atk    Sp. Def       Speed  Generation  Legendary  \n",
       "Type 1                                                             \n",
       "Bug       53.869565  64.797101   61.681159    3.217391   0.000000  \n",
       "Poison    60.428571  64.392857   63.571429    2.535714   0.000000  \n",
       "Normal    55.816327  63.724490   71.551020    3.051020   0.020408  \n",
       "Fairy     78.529412  84.705882   48.588235    4.117647   0.058824  \n",
       "Fighting  53.111111  64.703704   66.074074    3.370370   0.000000  \n",
       "Grass     77.500000  70.428571   61.928571    3.357143   0.042857  \n",
       "Water     74.812500  70.517857   65.964286    2.857143   0.035714  \n",
       "Ice       77.541667  76.291667   63.458333    3.541667   0.083333  \n",
       "Ground    56.468750  62.750000   63.906250    3.156250   0.125000  \n",
       "Ghost     79.343750  76.468750   64.343750    4.187500   0.062500  \n",
       "Electric  90.022727  73.704545   84.500000    3.272727   0.090909  \n",
       "Dark      74.645161  69.516129   76.161290    4.032258   0.064516  \n",
       "Rock      63.340909  75.477273   55.909091    3.454545   0.090909  \n",
       "Fire      88.980769  72.211538   74.442308    3.211538   0.096154  \n",
       "Psychic   98.403509  86.280702   81.491228    3.385965   0.245614  \n",
       "Flying    94.250000  72.500000  102.500000    5.500000   0.500000  \n",
       "Steel     67.518519  80.629630   55.259259    3.851852   0.148148  \n",
       "Dragon    96.843750  88.843750   83.031250    3.875000   0.375000  "
      ]
     },
     "execution_count": 59,
     "metadata": {},
     "output_type": "execute_result"
    }
   ],
   "source": [
    "data_clean.groupby(\"Type 1\").mean().sort_values(\"Total\")"
   ]
  },
  {
   "cell_type": "code",
   "execution_count": 61,
   "id": "4b25fccd",
   "metadata": {},
   "outputs": [
    {
     "data": {
      "image/png": "[encoded data removed]",
      "text/plain": [
       "<Figure size 1440x1440 with 9 Axes>"
      ]
     },
     "metadata": {
      "needs_background": "light"
     },
     "output_type": "display_data"
    }
   ],
   "source": [
    "data_clean.hist(figsize=(20,20))\n",
    "plt.show()"
   ]
  },
  {
   "cell_type": "code",
   "execution_count": 69,
   "id": "ef344704",
   "metadata": {},
   "outputs": [],
   "source": [
    "import scipy.stats as stats\n",
    "\n",
    "def diagnostic_plots(df, col):\n",
    "    plt.figure(figsize=(15,6))\n",
    "    # гистограмма\n",
    "    plt.subplot(1, 2, 1)\n",
    "    df[col].hist(bins=30)\n",
    "    ## Q-Q plot\n",
    "    plt.subplot(1, 2, 2)\n",
    "    stats.probplot(df[col], dist=\"norm\", plot=plt)\n",
    "    plt.show()\n",
    "    \n",
    "def diagnostic(dat):\n",
    "    plt.figure(figsize=(15,6))\n",
    "    # гистограмма\n",
    "    plt.subplot(1, 2, 1)\n",
    "    dat.hist(bins=30)\n",
    "    ## Q-Q plot\n",
    "    plt.subplot(1, 2, 2)\n",
    "    stats.probplot(dat, dist=\"norm\", plot=plt)\n",
    "    plt.show()    "
   ]
  },
  {
   "cell_type": "code",
   "execution_count": 70,
   "id": "c612bf6d",
   "metadata": {},
   "outputs": [
    {
     "data": {
      "image/png": "[encoded data removed]",
      "text/plain": [
       "<Figure size 1080x432 with 2 Axes>"
      ]
     },
     "metadata": {
      "needs_background": "light"
     },
     "output_type": "display_data"
    }
   ],
   "source": [
    "diagnostic_plots(data_clean, 'Sp. Atk')\n"
   ]
  },
  {
   "cell_type": "code",
   "execution_count": 73,
   "id": "42567548",
   "metadata": {},
   "outputs": [
    {
     "data": {
      "image/png": "[encoded data removed]",
      "text/plain": [
       "<Figure size 1080x432 with 2 Axes>"
      ]
     },
     "metadata": {
      "needs_background": "light"
     },
     "output_type": "display_data"
    }
   ],
   "source": [
    "diagnostic(np.log(data_clean['Sp. Atk']))"
   ]
  },
  {
   "cell_type": "code",
   "execution_count": 75,
   "id": "b54fffe2",
   "metadata": {},
   "outputs": [
    {
     "name": "stdout",
     "output_type": "stream",
     "text": [
      "0.33253199847700005\n"
     ]
    },
    {
     "data": {
      "image/png": "[encoded data removed]",
      "text/plain": [
       "<Figure size 1080x432 with 2 Axes>"
      ]
     },
     "metadata": {
      "needs_background": "light"
     },
     "output_type": "display_data"
    }
   ],
   "source": [
    "data_clean['Box'], param = stats.boxcox(data_clean['Sp. Atk']) \n",
    "print(param)\n",
    "diagnostic_plots(data_clean, 'Box')\n"
   ]
  },
  {
   "cell_type": "markdown",
   "id": "766f1882",
   "metadata": {},
   "source": [
    "Преобраззование Бокса-Кокса показывает и правда лучший результат, как и в лекции. РАспределение и правда почти нормальным"
   ]
  },
  {
   "cell_type": "code",
   "execution_count": null,
   "id": "30166100",
   "metadata": {},
   "outputs": [],
   "source": []
  },
  {
   "cell_type": "code",
   "execution_count": null,
   "id": "db60770f",
   "metadata": {},
   "outputs": [],
   "source": []
  }
 ],
 "metadata": {
  "kernelspec": {
   "display_name": "Python 3 (ipykernel)",
   "language": "python",
   "name": "python3"
  },
  "language_info": {
   "codemirror_mode": {
    "name": "ipython",
    "version": 3
   },
   "file_extension": ".py",
   "mimetype": "text/x-python",
   "name": "python",
   "nbconvert_exporter": "python",
   "pygments_lexer": "ipython3",
   "version": "3.9.7"
  }
 },
 "nbformat": 4,
 "nbformat_minor": 5
}
